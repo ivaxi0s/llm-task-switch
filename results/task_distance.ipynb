{
 "cells": [
  {
   "cell_type": "markdown",
   "metadata": {},
   "source": [
    "## Task Distance\n",
    "\n",
    "Brief attempt to measure task distance (as a rank) vs performance degredation"
   ]
  },
  {
   "cell_type": "markdown",
   "metadata": {},
   "source": [
    "### Distance Metric: Format (MCQ, Essay)\n",
    "\n",
    "MMLU, RT, TweetQA, Gigaword\n",
    "\n",
    "Results df: num_examples, inctxt, model, (seed), "
   ]
  },
  {
   "cell_type": "code",
   "execution_count": null,
   "metadata": {},
   "outputs": [],
   "source": []
  },
  {
   "cell_type": "markdown",
   "metadata": {},
   "source": [
    "### Distance Metric: Question Length (in tokens)"
   ]
  },
  {
   "cell_type": "code",
   "execution_count": null,
   "metadata": {},
   "outputs": [],
   "source": []
  }
 ],
 "metadata": {
  "language_info": {
   "name": "python"
  }
 },
 "nbformat": 4,
 "nbformat_minor": 2
}
